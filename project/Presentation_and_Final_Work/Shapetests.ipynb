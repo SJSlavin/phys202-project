{
 "cells": [
  {
   "cell_type": "code",
   "execution_count": 2,
   "metadata": {
    "collapsed": false
   },
   "outputs": [
    {
     "name": "stderr",
     "output_type": "stream",
     "text": [
      ":0: FutureWarning: IPython widgets are experimental and may change in the future.\n"
     ]
    }
   ],
   "source": [
    "%matplotlib inline\n",
    "import numpy as np\n",
    "import matplotlib.pyplot as plt\n",
    "from IPython.html.widgets import interact\n",
    "import sknn.mlp as neurnet\n",
    "\n",
    "from sklearn.datasets import load_digits\n",
    "digits = load_digits()\n",
    "\n",
    "trainingdata = digits.data[0:1200]\n",
    "traininganswers = digits.target[0:1200]\n",
    "lc = 0.02\n",
    "\n",
    "#convert the integer answers into a 10-dimension array\n",
    "traininganswervectors = np.zeros((1200,10))\n",
    "for n in range(1200):\n",
    "    traininganswervectors[n][digits.target[n]] = 1\n",
    "    \n",
    "testdata = digits.data[1200:1700]\n",
    "testanswers = digits.target[1200:1700]\n",
    "\n",
    "testanswervectors = np.zeros((500,10))\n",
    "for n in range(500):\n",
    "    testanswervectors[n][digits.target[n + 1200]] = 1\n",
    "    \n",
    "    \n",
    "trainingtuples = np.array(zip(trainingdata, traininganswervectors))\n",
    "testtuples = np.array(zip(testdata, testanswervectors))"
   ]
  },
  {
   "cell_type": "code",
   "execution_count": 3,
   "metadata": {
    "collapsed": true
   },
   "outputs": [],
   "source": [
    "def accuracy(inputs, results, answers):\n",
    "    correct = 0\n",
    "    binresults = results\n",
    "    for n in range(0, len(results)):\n",
    "        #converts the output into a binary y/n for each digit\n",
    "        for n2 in range(len(results[n])):\n",
    "            if results[n][n2] == max(results[n]):\n",
    "                binresults[n][n2] = 1\n",
    "            else:\n",
    "                binresults[n][n2] = 0\n",
    "        \n",
    "        if np.array_equal(answers[n], binresults[n]):\n",
    "            correct += 1\n",
    "    return correct / len(results)"
   ]
  },
  {
   "cell_type": "code",
   "execution_count": 21,
   "metadata": {
    "collapsed": false
   },
   "outputs": [
    {
     "name": "stdout",
     "output_type": "stream",
     "text": [
      "1 loops, best of 3: 9.9 s per loop\n",
      "0.924\n"
     ]
    }
   ],
   "source": [
    "nn = neurnet.Regressor(\n",
    "    layers=[\n",
    "        neurnet.Layer(\"Sigmoid\", units=64),\n",
    "        neurnet.Layer(\"Sigmoid\", units=80),\n",
    "        neurnet.Layer(\"Sigmoid\", units=10)],\n",
    "    learning_rate=0.2,\n",
    "    n_iter=100,\n",
    "    batch_size=5)\n",
    "\n",
    "%timeit -n 1 nn.fit(trainingdata, traininganswervectors)\n",
    "\n",
    "y_valid = nn.predict(testdata)\n",
    "print(accuracy(testdata, y_valid, testanswervectors))"
   ]
  },
  {
   "cell_type": "code",
   "execution_count": 22,
   "metadata": {
    "collapsed": false
   },
   "outputs": [
    {
     "name": "stdout",
     "output_type": "stream",
     "text": [
      "1 loops, best of 3: 9.54 s per loop\n",
      "0.9\n"
     ]
    }
   ],
   "source": [
    "nn = neurnet.Regressor(\n",
    "    layers=[\n",
    "        neurnet.Layer(\"Sigmoid\", units=64),\n",
    "        neurnet.Layer(\"Sigmoid\", units=40),\n",
    "        neurnet.Layer(\"Sigmoid\", units=40),\n",
    "        neurnet.Layer(\"Sigmoid\", units=10)],\n",
    "    learning_rate=0.2,\n",
    "    n_iter=100,\n",
    "    batch_size=5)\n",
    "\n",
    "%timeit -n 1 nn.fit(trainingdata, traininganswervectors)\n",
    "\n",
    "y_valid = nn.predict(testdata)\n",
    "print(accuracy(testdata, y_valid, testanswervectors))"
   ]
  },
  {
   "cell_type": "code",
   "execution_count": 23,
   "metadata": {
    "collapsed": false
   },
   "outputs": [
    {
     "name": "stdout",
     "output_type": "stream",
     "text": [
      "1 loops, best of 3: 9.24 s per loop\n",
      "0.898\n"
     ]
    }
   ],
   "source": [
    "nn = neurnet.Regressor(\n",
    "    layers=[\n",
    "        neurnet.Layer(\"Sigmoid\", units=64),\n",
    "        neurnet.Layer(\"Sigmoid\", units=20),\n",
    "        neurnet.Layer(\"Sigmoid\", units=20),\n",
    "        neurnet.Layer(\"Sigmoid\", units=20),\n",
    "        neurnet.Layer(\"Sigmoid\", units=20),\n",
    "        neurnet.Layer(\"Sigmoid\", units=10)],\n",
    "    learning_rate=0.2,\n",
    "    n_iter=100,\n",
    "    batch_size=5)\n",
    "\n",
    "%timeit -n 1 nn.fit(trainingdata, traininganswervectors)\n",
    "\n",
    "y_valid = nn.predict(testdata)\n",
    "print(accuracy(testdata, y_valid, testanswervectors))"
   ]
  },
  {
   "cell_type": "code",
   "execution_count": 24,
   "metadata": {
    "collapsed": false
   },
   "outputs": [
    {
     "name": "stdout",
     "output_type": "stream",
     "text": [
      "1 loops, best of 3: 9.73 s per loop\n",
      "0.846\n"
     ]
    }
   ],
   "source": [
    "nn = neurnet.Regressor(\n",
    "    layers=[\n",
    "        neurnet.Layer(\"Sigmoid\", units=64),\n",
    "        neurnet.Layer(\"Sigmoid\", units=10),\n",
    "        neurnet.Layer(\"Sigmoid\", units=10),\n",
    "        neurnet.Layer(\"Sigmoid\", units=10),\n",
    "        neurnet.Layer(\"Sigmoid\", units=10),\n",
    "        neurnet.Layer(\"Sigmoid\", units=10),\n",
    "        neurnet.Layer(\"Sigmoid\", units=10),\n",
    "        neurnet.Layer(\"Sigmoid\", units=10),\n",
    "        neurnet.Layer(\"Sigmoid\", units=10),\n",
    "        neurnet.Layer(\"Sigmoid\", units=10)],\n",
    "    learning_rate=0.2,\n",
    "    n_iter=100,\n",
    "    batch_size=5)\n",
    "\n",
    "%timeit -n 1 nn.fit(trainingdata, traininganswervectors)\n",
    "\n",
    "y_valid = nn.predict(testdata)\n",
    "print(accuracy(testdata, y_valid, testanswervectors))"
   ]
  },
  {
   "cell_type": "code",
   "execution_count": 25,
   "metadata": {
    "collapsed": false
   },
   "outputs": [
    {
     "name": "stdout",
     "output_type": "stream",
     "text": [
      "1 loops, best of 3: 11.7 s per loop\n",
      "0.09\n"
     ]
    }
   ],
   "source": [
    "nn = neurnet.Regressor(\n",
    "    layers=[\n",
    "        neurnet.Layer(\"Sigmoid\", units=64),\n",
    "        neurnet.Layer(\"Sigmoid\", units=5),\n",
    "        neurnet.Layer(\"Sigmoid\", units=5),\n",
    "        neurnet.Layer(\"Sigmoid\", units=5),\n",
    "        neurnet.Layer(\"Sigmoid\", units=5),\n",
    "        neurnet.Layer(\"Sigmoid\", units=5),\n",
    "        neurnet.Layer(\"Sigmoid\", units=5),\n",
    "        neurnet.Layer(\"Sigmoid\", units=5),\n",
    "        neurnet.Layer(\"Sigmoid\", units=5),\n",
    "        neurnet.Layer(\"Sigmoid\", units=5),\n",
    "        neurnet.Layer(\"Sigmoid\", units=5),\n",
    "        neurnet.Layer(\"Sigmoid\", units=5),\n",
    "        neurnet.Layer(\"Sigmoid\", units=5),\n",
    "        neurnet.Layer(\"Sigmoid\", units=5),\n",
    "        neurnet.Layer(\"Sigmoid\", units=5),\n",
    "        neurnet.Layer(\"Sigmoid\", units=5),\n",
    "        neurnet.Layer(\"Sigmoid\", units=10),\n",
    "        neurnet.Layer(\"Sigmoid\", units=10)],\n",
    "    learning_rate=0.2,\n",
    "    n_iter=100,\n",
    "    batch_size=5)\n",
    "\n",
    "%timeit -n 1 nn.fit(trainingdata, traininganswervectors)\n",
    "\n",
    "y_valid = nn.predict(testdata)\n",
    "print(accuracy(testdata, y_valid, testanswervectors))"
   ]
  },
  {
   "cell_type": "code",
   "execution_count": 26,
   "metadata": {
    "collapsed": false
   },
   "outputs": [
    {
     "name": "stdout",
     "output_type": "stream",
     "text": [
      "1 loops, best of 3: 12.9 s per loop\n",
      "0.1\n"
     ]
    }
   ],
   "source": [
    "nn = neurnet.Regressor(\n",
    "    layers=[\n",
    "        neurnet.Layer(\"Sigmoid\", units=64),\n",
    "        neurnet.Layer(\"Sigmoid\", units=4),\n",
    "        neurnet.Layer(\"Sigmoid\", units=4),\n",
    "        neurnet.Layer(\"Sigmoid\", units=4),\n",
    "        neurnet.Layer(\"Sigmoid\", units=4),\n",
    "        neurnet.Layer(\"Sigmoid\", units=4),\n",
    "        neurnet.Layer(\"Sigmoid\", units=4),\n",
    "        neurnet.Layer(\"Sigmoid\", units=4),\n",
    "        neurnet.Layer(\"Sigmoid\", units=4),\n",
    "        neurnet.Layer(\"Sigmoid\", units=4),\n",
    "        neurnet.Layer(\"Sigmoid\", units=4),\n",
    "        neurnet.Layer(\"Sigmoid\", units=4),\n",
    "        neurnet.Layer(\"Sigmoid\", units=4),\n",
    "        neurnet.Layer(\"Sigmoid\", units=4),\n",
    "        neurnet.Layer(\"Sigmoid\", units=4),\n",
    "        neurnet.Layer(\"Sigmoid\", units=4),\n",
    "        neurnet.Layer(\"Sigmoid\", units=4),\n",
    "        neurnet.Layer(\"Sigmoid\", units=4),\n",
    "        neurnet.Layer(\"Sigmoid\", units=4),\n",
    "        neurnet.Layer(\"Sigmoid\", units=4),\n",
    "        neurnet.Layer(\"Sigmoid\", units=4),\n",
    "        neurnet.Layer(\"Sigmoid\", units=10)],\n",
    "    learning_rate=0.2,\n",
    "    n_iter=100,\n",
    "    batch_size=5)\n",
    "\n",
    "%timeit -n 1 nn.fit(trainingdata, traininganswervectors)\n",
    "\n",
    "y_valid = nn.predict(testdata)\n",
    "print(accuracy(testdata, y_valid, testanswervectors))"
   ]
  },
  {
   "cell_type": "code",
   "execution_count": 27,
   "metadata": {
    "collapsed": false
   },
   "outputs": [
    {
     "name": "stdout",
     "output_type": "stream",
     "text": [
      "1 loops, best of 3: 12.4 s per loop\n",
      "0.1\n"
     ]
    }
   ],
   "source": [
    "nn = neurnet.Regressor(\n",
    "    layers=[\n",
    "        neurnet.Layer(\"Sigmoid\", units=64),\n",
    "        neurnet.Layer(\"Sigmoid\", units=2),\n",
    "        neurnet.Layer(\"Sigmoid\", units=2),\n",
    "        neurnet.Layer(\"Sigmoid\", units=2),\n",
    "        neurnet.Layer(\"Sigmoid\", units=2),\n",
    "        neurnet.Layer(\"Sigmoid\", units=2),\n",
    "        neurnet.Layer(\"Sigmoid\", units=2),\n",
    "        neurnet.Layer(\"Sigmoid\", units=2),\n",
    "        neurnet.Layer(\"Sigmoid\", units=2),\n",
    "        neurnet.Layer(\"Sigmoid\", units=2),\n",
    "        neurnet.Layer(\"Sigmoid\", units=2),\n",
    "        neurnet.Layer(\"Sigmoid\", units=2),\n",
    "        neurnet.Layer(\"Sigmoid\", units=2),\n",
    "        neurnet.Layer(\"Sigmoid\", units=2),\n",
    "        neurnet.Layer(\"Sigmoid\", units=2),\n",
    "        neurnet.Layer(\"Sigmoid\", units=2),\n",
    "        neurnet.Layer(\"Sigmoid\", units=2),\n",
    "        neurnet.Layer(\"Sigmoid\", units=2),\n",
    "        neurnet.Layer(\"Sigmoid\", units=2),\n",
    "        neurnet.Layer(\"Sigmoid\", units=2),\n",
    "        neurnet.Layer(\"Sigmoid\", units=2),\n",
    "        neurnet.Layer(\"Sigmoid\", units=10)],\n",
    "    learning_rate=0.2,\n",
    "    n_iter=100,\n",
    "    batch_size=5)\n",
    "\n",
    "%timeit -n 1 nn.fit(trainingdata, traininganswervectors)\n",
    "\n",
    "y_valid = nn.predict(testdata)\n",
    "print(accuracy(testdata, y_valid, testanswervectors))"
   ]
  },
  {
   "cell_type": "code",
   "execution_count": 30,
   "metadata": {
    "collapsed": false
   },
   "outputs": [
    {
     "data": {
      "text/plain": [
       "<matplotlib.text.Text at 0x7fcbfa536be0>"
      ]
     },
     "execution_count": 30,
     "metadata": {},
     "output_type": "execute_result"
    },
    {
     "data": {
      "image/png": "[encoded data removed]",
      "text/plain": [
       "<matplotlib.figure.Figure at 0x7fcbfa7c76d8>"
      ]
     },
     "metadata": {},
     "output_type": "display_data"
    }
   ],
   "source": [
    "time = [9.9, 9.54, 9.24, 9.73, 11.7, 12.9, 12.4]\n",
    "acc = [0.924, 0.9, 0.898, 0.846, 0.09, 0.1, 0.1]\n",
    "\n",
    "plt.scatter(time, acc)\n",
    "plt.xlabel(\"Time\")\n",
    "plt.ylabel(\"Accuracy\")"
   ]
  },
  {
   "cell_type": "code",
   "execution_count": 38,
   "metadata": {
    "collapsed": false
   },
   "outputs": [
    {
     "data": {
      "text/plain": [
       "<matplotlib.text.Annotation at 0x7fcbff485470>"
      ]
     },
     "execution_count": 38,
     "metadata": {},
     "output_type": "execute_result"
    },
    {
     "data": {
      "image/png": "[encoded data removed]",
      "text/plain": [
       "<matplotlib.figure.Figure at 0x7fcbfcc45550>"
      ]
     },
     "metadata": {},
     "output_type": "display_data"
    }
   ],
   "source": [
    "fig = plt.figure()\n",
    "ax = fig.add_subplot(111)\n",
    "\n",
    "plt.scatter(time[0:4], acc[0:4])\n",
    "ax.annotate(\"1x80\", xy=(9.9, 0.928))\n",
    "ax.annotate(\"2x40\", xy=(9.54, 0.905))\n",
    "ax.annotate(\"4x20\", xy=(9.24, 0.902))\n",
    "ax.annotate(\"8x10\", xy=(9.73, 0.850))"
   ]
  },
  {
   "cell_type": "code",
   "execution_count": 12,
   "metadata": {
    "collapsed": false
   },
   "outputs": [
    {
     "name": "stdout",
     "output_type": "stream",
     "text": [
      "1 loops, best of 3: 478 ms per loop\n",
      "0.864\n"
     ]
    }
   ],
   "source": [
    "nn = neurnet.Regressor(\n",
    "    layers=[\n",
    "        neurnet.Layer(\"Sigmoid\", units=64),\n",
    "        neurnet.Layer(\"Sigmoid\", units=80),\n",
    "        neurnet.Layer(\"Sigmoid\", units=10)],\n",
    "    learning_rate=0.2,\n",
    "    n_iter=1,\n",
    "    batch_size=1)\n",
    "\n",
    "%timeit -n 1 nn.fit(trainingdata, traininganswervectors)\n",
    "\n",
    "y_valid = nn.predict(testdata)\n",
    "print(accuracy(testdata, y_valid, testanswervectors))"
   ]
  },
  {
   "cell_type": "code",
   "execution_count": 13,
   "metadata": {
    "collapsed": false
   },
   "outputs": [
    {
     "name": "stdout",
     "output_type": "stream",
     "text": [
      "1 loops, best of 3: 364 ms per loop\n",
      "0.858\n"
     ]
    }
   ],
   "source": [
    "nn = neurnet.Regressor(\n",
    "    layers=[\n",
    "        neurnet.Layer(\"Sigmoid\", units=64),\n",
    "        neurnet.Layer(\"Sigmoid\", units=80),\n",
    "        neurnet.Layer(\"Sigmoid\", units=10)],\n",
    "    learning_rate=0.2,\n",
    "    n_iter=2,\n",
    "    batch_size=2)\n",
    "\n",
    "%timeit -n 1 nn.fit(trainingdata, traininganswervectors)\n",
    "\n",
    "y_valid = nn.predict(testdata)\n",
    "print(accuracy(testdata, y_valid, testanswervectors))"
   ]
  },
  {
   "cell_type": "code",
   "execution_count": 8,
   "metadata": {
    "collapsed": false
   },
   "outputs": [
    {
     "name": "stdout",
     "output_type": "stream",
     "text": [
      "1 loops, best of 3: 435 ms per loop\n",
      "0.876\n"
     ]
    }
   ],
   "source": [
    "nn = neurnet.Regressor(\n",
    "    layers=[\n",
    "        neurnet.Layer(\"Sigmoid\", units=64),\n",
    "        neurnet.Layer(\"Sigmoid\", units=80),\n",
    "        neurnet.Layer(\"Sigmoid\", units=10)],\n",
    "    learning_rate=0.2,\n",
    "    n_iter=5,\n",
    "    batch_size=5)\n",
    "\n",
    "%timeit -n 1 nn.fit(trainingdata, traininganswervectors)\n",
    "\n",
    "y_valid = nn.predict(testdata)\n",
    "print(accuracy(testdata, y_valid, testanswervectors))"
   ]
  },
  {
   "cell_type": "code",
   "execution_count": 9,
   "metadata": {
    "collapsed": false
   },
   "outputs": [
    {
     "name": "stdout",
     "output_type": "stream",
     "text": [
      "1 loops, best of 3: 1.01 s per loop\n",
      "0.896\n"
     ]
    }
   ],
   "source": [
    "nn = neurnet.Regressor(\n",
    "    layers=[\n",
    "        neurnet.Layer(\"Sigmoid\", units=64),\n",
    "        neurnet.Layer(\"Sigmoid\", units=80),\n",
    "        neurnet.Layer(\"Sigmoid\", units=10)],\n",
    "    learning_rate=0.2,\n",
    "    n_iter=10,\n",
    "    batch_size=5)\n",
    "\n",
    "%timeit -n 1 nn.fit(trainingdata, traininganswervectors)\n",
    "\n",
    "y_valid = nn.predict(testdata)\n",
    "print(accuracy(testdata, y_valid, testanswervectors))"
   ]
  },
  {
   "cell_type": "code",
   "execution_count": 45,
   "metadata": {
    "collapsed": false
   },
   "outputs": [
    {
     "name": "stdout",
     "output_type": "stream",
     "text": [
      "1 loops, best of 3: 1.77 s per loop\n",
      "0.906\n"
     ]
    }
   ],
   "source": [
    "nn = neurnet.Regressor(\n",
    "    layers=[\n",
    "        neurnet.Layer(\"Sigmoid\", units=64),\n",
    "        neurnet.Layer(\"Sigmoid\", units=80),\n",
    "        neurnet.Layer(\"Sigmoid\", units=10)],\n",
    "    learning_rate=0.2,\n",
    "    n_iter=20,\n",
    "    batch_size=5)\n",
    "\n",
    "%timeit -n 1 nn.fit(trainingdata, traininganswervectors)\n",
    "\n",
    "y_valid = nn.predict(testdata)\n",
    "print(accuracy(testdata, y_valid, testanswervectors))"
   ]
  },
  {
   "cell_type": "code",
   "execution_count": 46,
   "metadata": {
    "collapsed": false
   },
   "outputs": [
    {
     "name": "stdout",
     "output_type": "stream",
     "text": [
      "1 loops, best of 3: 3.47 s per loop\n",
      "0.914\n"
     ]
    }
   ],
   "source": [
    "nn = neurnet.Regressor(\n",
    "    layers=[\n",
    "        neurnet.Layer(\"Sigmoid\", units=64),\n",
    "        neurnet.Layer(\"Sigmoid\", units=80),\n",
    "        neurnet.Layer(\"Sigmoid\", units=10)],\n",
    "    learning_rate=0.2,\n",
    "    n_iter=40,\n",
    "    batch_size=5)\n",
    "\n",
    "%timeit -n 1 nn.fit(trainingdata, traininganswervectors)\n",
    "\n",
    "y_valid = nn.predict(testdata)\n",
    "print(accuracy(testdata, y_valid, testanswervectors))"
   ]
  },
  {
   "cell_type": "code",
   "execution_count": 47,
   "metadata": {
    "collapsed": false
   },
   "outputs": [
    {
     "name": "stdout",
     "output_type": "stream",
     "text": [
      "1 loops, best of 3: 5.27 s per loop\n",
      "0.916\n"
     ]
    }
   ],
   "source": [
    "nn = neurnet.Regressor(\n",
    "    layers=[\n",
    "        neurnet.Layer(\"Sigmoid\", units=64),\n",
    "        neurnet.Layer(\"Sigmoid\", units=80),\n",
    "        neurnet.Layer(\"Sigmoid\", units=10)],\n",
    "    learning_rate=0.2,\n",
    "    n_iter=60,\n",
    "    batch_size=5)\n",
    "\n",
    "%timeit -n 1 nn.fit(trainingdata, traininganswervectors)\n",
    "\n",
    "y_valid = nn.predict(testdata)\n",
    "print(accuracy(testdata, y_valid, testanswervectors))"
   ]
  },
  {
   "cell_type": "code",
   "execution_count": 48,
   "metadata": {
    "collapsed": false
   },
   "outputs": [
    {
     "name": "stdout",
     "output_type": "stream",
     "text": [
      "1 loops, best of 3: 6.98 s per loop\n",
      "0.922\n"
     ]
    }
   ],
   "source": [
    "nn = neurnet.Regressor(\n",
    "    layers=[\n",
    "        neurnet.Layer(\"Sigmoid\", units=64),\n",
    "        neurnet.Layer(\"Sigmoid\", units=80),\n",
    "        neurnet.Layer(\"Sigmoid\", units=10)],\n",
    "    learning_rate=0.2,\n",
    "    n_iter=80,\n",
    "    batch_size=5)\n",
    "\n",
    "%timeit -n 1 nn.fit(trainingdata, traininganswervectors)\n",
    "\n",
    "y_valid = nn.predict(testdata)\n",
    "print(accuracy(testdata, y_valid, testanswervectors))"
   ]
  },
  {
   "cell_type": "code",
   "execution_count": 5,
   "metadata": {
    "collapsed": false
   },
   "outputs": [
    {
     "name": "stdout",
     "output_type": "stream",
     "text": [
      "1 loops, best of 3: 8.77 s per loop\n",
      "0.924\n"
     ]
    }
   ],
   "source": [
    "nn = neurnet.Regressor(\n",
    "    layers=[\n",
    "        neurnet.Layer(\"Sigmoid\", units=64),\n",
    "        neurnet.Layer(\"Sigmoid\", units=80),\n",
    "        neurnet.Layer(\"Sigmoid\", units=10)],\n",
    "    learning_rate=0.2,\n",
    "    n_iter=100,\n",
    "    batch_size=5)\n",
    "\n",
    "%timeit -n 1 nn.fit(trainingdata, traininganswervectors)\n",
    "\n",
    "y_valid = nn.predict(testdata)\n",
    "print(accuracy(testdata, y_valid, testanswervectors))"
   ]
  },
  {
   "cell_type": "code",
   "execution_count": 6,
   "metadata": {
    "collapsed": false
   },
   "outputs": [
    {
     "name": "stdout",
     "output_type": "stream",
     "text": [
      "1 loops, best of 3: 10.5 s per loop\n",
      "0.926\n"
     ]
    }
   ],
   "source": [
    "nn = neurnet.Regressor(\n",
    "    layers=[\n",
    "        neurnet.Layer(\"Sigmoid\", units=64),\n",
    "        neurnet.Layer(\"Sigmoid\", units=80),\n",
    "        neurnet.Layer(\"Sigmoid\", units=10)],\n",
    "    learning_rate=0.2,\n",
    "    n_iter=120,\n",
    "    batch_size=5)\n",
    "\n",
    "%timeit -n 1 nn.fit(trainingdata, traininganswervectors)\n",
    "\n",
    "y_valid = nn.predict(testdata)\n",
    "print(accuracy(testdata, y_valid, testanswervectors))"
   ]
  },
  {
   "cell_type": "code",
   "execution_count": 7,
   "metadata": {
    "collapsed": false
   },
   "outputs": [
    {
     "name": "stdout",
     "output_type": "stream",
     "text": [
      "1 loops, best of 3: 34.9 s per loop\n",
      "0.924\n"
     ]
    }
   ],
   "source": [
    "nn = neurnet.Regressor(\n",
    "    layers=[\n",
    "        neurnet.Layer(\"Sigmoid\", units=64),\n",
    "        neurnet.Layer(\"Sigmoid\", units=80),\n",
    "        neurnet.Layer(\"Sigmoid\", units=10)],\n",
    "    learning_rate=0.2,\n",
    "    n_iter=400,\n",
    "    batch_size=5)\n",
    "\n",
    "%timeit -n 1 nn.fit(trainingdata, traininganswervectors)\n",
    "\n",
    "y_valid = nn.predict(testdata)\n",
    "print(accuracy(testdata, y_valid, testanswervectors))"
   ]
  },
  {
   "cell_type": "code",
   "execution_count": 18,
   "metadata": {
    "collapsed": false
   },
   "outputs": [],
   "source": [
    "_1x80time = [.478, .364, .435, 1.01, 1.77, 3.47, 5.27, 6.98, 8.77, 10.5, 34.9]\n",
    "_1x80acc = [.864, .858, .876, .896, .906, .914, .916, .922, .924, .926, .924]"
   ]
  },
  {
   "cell_type": "code",
   "execution_count": 4,
   "metadata": {
    "collapsed": false
   },
   "outputs": [
    {
     "name": "stdout",
     "output_type": "stream",
     "text": [
      "The slowest run took 8.40 times longer than the fastest. This could mean that an intermediate result is being cached \n",
      "1 loops, best of 3: 193 ms per loop\n",
      "0.43\n"
     ]
    }
   ],
   "source": [
    "nn = neurnet.Regressor(\n",
    "    layers=[\n",
    "        neurnet.Layer(\"Sigmoid\", units=64),\n",
    "        neurnet.Layer(\"Sigmoid\", units=20),\n",
    "        neurnet.Layer(\"Sigmoid\", units=20),\n",
    "        neurnet.Layer(\"Sigmoid\", units=20),\n",
    "        neurnet.Layer(\"Sigmoid\", units=20),\n",
    "        neurnet.Layer(\"Sigmoid\", units=10)],\n",
    "    learning_rate=0.2,\n",
    "    n_iter=1,\n",
    "    batch_size=5)\n",
    "\n",
    "%timeit -n 1 nn.fit(trainingdata, traininganswervectors)\n",
    "\n",
    "y_valid = nn.predict(testdata)\n",
    "print(accuracy(testdata, y_valid, testanswervectors))"
   ]
  },
  {
   "cell_type": "code",
   "execution_count": 5,
   "metadata": {
    "collapsed": false
   },
   "outputs": [
    {
     "name": "stdout",
     "output_type": "stream",
     "text": [
      "The slowest run took 4.05 times longer than the fastest. This could mean that an intermediate result is being cached \n",
      "1 loops, best of 3: 317 ms per loop\n",
      "0.526\n"
     ]
    }
   ],
   "source": [
    "nn = neurnet.Regressor(\n",
    "    layers=[\n",
    "        neurnet.Layer(\"Sigmoid\", units=64),\n",
    "        neurnet.Layer(\"Sigmoid\", units=20),\n",
    "        neurnet.Layer(\"Sigmoid\", units=20),\n",
    "        neurnet.Layer(\"Sigmoid\", units=20),\n",
    "        neurnet.Layer(\"Sigmoid\", units=20),\n",
    "        neurnet.Layer(\"Sigmoid\", units=10)],\n",
    "    learning_rate=0.2,\n",
    "    n_iter=2,\n",
    "    batch_size=5)\n",
    "\n",
    "%timeit -n 1 nn.fit(trainingdata, traininganswervectors)\n",
    "\n",
    "y_valid = nn.predict(testdata)\n",
    "print(accuracy(testdata, y_valid, testanswervectors))"
   ]
  },
  {
   "cell_type": "code",
   "execution_count": 6,
   "metadata": {
    "collapsed": false
   },
   "outputs": [
    {
     "name": "stdout",
     "output_type": "stream",
     "text": [
      "1 loops, best of 3: 541 ms per loop\n",
      "0.776\n"
     ]
    }
   ],
   "source": [
    "nn = neurnet.Regressor(\n",
    "    layers=[\n",
    "        neurnet.Layer(\"Sigmoid\", units=64),\n",
    "        neurnet.Layer(\"Sigmoid\", units=20),\n",
    "        neurnet.Layer(\"Sigmoid\", units=20),\n",
    "        neurnet.Layer(\"Sigmoid\", units=20),\n",
    "        neurnet.Layer(\"Sigmoid\", units=20),\n",
    "        neurnet.Layer(\"Sigmoid\", units=10)],\n",
    "    learning_rate=0.2,\n",
    "    n_iter=5,\n",
    "    batch_size=5)\n",
    "\n",
    "%timeit -n 1 nn.fit(trainingdata, traininganswervectors)\n",
    "\n",
    "y_valid = nn.predict(testdata)\n",
    "print(accuracy(testdata, y_valid, testanswervectors))"
   ]
  },
  {
   "cell_type": "code",
   "execution_count": 7,
   "metadata": {
    "collapsed": false
   },
   "outputs": [
    {
     "name": "stdout",
     "output_type": "stream",
     "text": [
      "1 loops, best of 3: 833 ms per loop\n",
      "0.864\n"
     ]
    }
   ],
   "source": [
    "nn = neurnet.Regressor(\n",
    "    layers=[\n",
    "        neurnet.Layer(\"Sigmoid\", units=64),\n",
    "        neurnet.Layer(\"Sigmoid\", units=20),\n",
    "        neurnet.Layer(\"Sigmoid\", units=20),\n",
    "        neurnet.Layer(\"Sigmoid\", units=20),\n",
    "        neurnet.Layer(\"Sigmoid\", units=20),\n",
    "        neurnet.Layer(\"Sigmoid\", units=10)],\n",
    "    learning_rate=0.2,\n",
    "    n_iter=10,\n",
    "    batch_size=5)\n",
    "\n",
    "%timeit -n 1 nn.fit(trainingdata, traininganswervectors)\n",
    "\n",
    "y_valid = nn.predict(testdata)\n",
    "print(accuracy(testdata, y_valid, testanswervectors))"
   ]
  },
  {
   "cell_type": "code",
   "execution_count": 8,
   "metadata": {
    "collapsed": false
   },
   "outputs": [
    {
     "name": "stdout",
     "output_type": "stream",
     "text": [
      "1 loops, best of 3: 1.68 s per loop\n",
      "0.88\n"
     ]
    }
   ],
   "source": [
    "nn = neurnet.Regressor(\n",
    "    layers=[\n",
    "        neurnet.Layer(\"Sigmoid\", units=64),\n",
    "        neurnet.Layer(\"Sigmoid\", units=20),\n",
    "        neurnet.Layer(\"Sigmoid\", units=20),\n",
    "        neurnet.Layer(\"Sigmoid\", units=20),\n",
    "        neurnet.Layer(\"Sigmoid\", units=20),\n",
    "        neurnet.Layer(\"Sigmoid\", units=10)],\n",
    "    learning_rate=0.2,\n",
    "    n_iter=20,\n",
    "    batch_size=5)\n",
    "\n",
    "%timeit -n 1 nn.fit(trainingdata, traininganswervectors)\n",
    "\n",
    "y_valid = nn.predict(testdata)\n",
    "print(accuracy(testdata, y_valid, testanswervectors))"
   ]
  },
  {
   "cell_type": "code",
   "execution_count": 9,
   "metadata": {
    "collapsed": false
   },
   "outputs": [
    {
     "name": "stdout",
     "output_type": "stream",
     "text": [
      "1 loops, best of 3: 3.33 s per loop\n",
      "0.894\n"
     ]
    }
   ],
   "source": [
    "nn = neurnet.Regressor(\n",
    "    layers=[\n",
    "        neurnet.Layer(\"Sigmoid\", units=64),\n",
    "        neurnet.Layer(\"Sigmoid\", units=20),\n",
    "        neurnet.Layer(\"Sigmoid\", units=20),\n",
    "        neurnet.Layer(\"Sigmoid\", units=20),\n",
    "        neurnet.Layer(\"Sigmoid\", units=20),\n",
    "        neurnet.Layer(\"Sigmoid\", units=10)],\n",
    "    learning_rate=0.2,\n",
    "    n_iter=40,\n",
    "    batch_size=5)\n",
    "\n",
    "%timeit -n 1 nn.fit(trainingdata, traininganswervectors)\n",
    "\n",
    "y_valid = nn.predict(testdata)\n",
    "print(accuracy(testdata, y_valid, testanswervectors))"
   ]
  },
  {
   "cell_type": "code",
   "execution_count": 10,
   "metadata": {
    "collapsed": false
   },
   "outputs": [
    {
     "name": "stdout",
     "output_type": "stream",
     "text": [
      "1 loops, best of 3: 5.02 s per loop\n",
      "0.9\n"
     ]
    }
   ],
   "source": [
    "nn = neurnet.Regressor(\n",
    "    layers=[\n",
    "        neurnet.Layer(\"Sigmoid\", units=64),\n",
    "        neurnet.Layer(\"Sigmoid\", units=20),\n",
    "        neurnet.Layer(\"Sigmoid\", units=20),\n",
    "        neurnet.Layer(\"Sigmoid\", units=20),\n",
    "        neurnet.Layer(\"Sigmoid\", units=20),\n",
    "        neurnet.Layer(\"Sigmoid\", units=10)],\n",
    "    learning_rate=0.2,\n",
    "    n_iter=60,\n",
    "    batch_size=5)\n",
    "\n",
    "%timeit -n 1 nn.fit(trainingdata, traininganswervectors)\n",
    "\n",
    "y_valid = nn.predict(testdata)\n",
    "print(accuracy(testdata, y_valid, testanswervectors))"
   ]
  },
  {
   "cell_type": "code",
   "execution_count": 11,
   "metadata": {
    "collapsed": false
   },
   "outputs": [
    {
     "name": "stdout",
     "output_type": "stream",
     "text": [
      "1 loops, best of 3: 6.76 s per loop\n",
      "0.898\n"
     ]
    }
   ],
   "source": [
    "nn = neurnet.Regressor(\n",
    "    layers=[\n",
    "        neurnet.Layer(\"Sigmoid\", units=64),\n",
    "        neurnet.Layer(\"Sigmoid\", units=20),\n",
    "        neurnet.Layer(\"Sigmoid\", units=20),\n",
    "        neurnet.Layer(\"Sigmoid\", units=20),\n",
    "        neurnet.Layer(\"Sigmoid\", units=20),\n",
    "        neurnet.Layer(\"Sigmoid\", units=10)],\n",
    "    learning_rate=0.2,\n",
    "    n_iter=80,\n",
    "    batch_size=5)\n",
    "\n",
    "%timeit -n 1 nn.fit(trainingdata, traininganswervectors)\n",
    "\n",
    "y_valid = nn.predict(testdata)\n",
    "print(accuracy(testdata, y_valid, testanswervectors))"
   ]
  },
  {
   "cell_type": "code",
   "execution_count": 12,
   "metadata": {
    "collapsed": false
   },
   "outputs": [
    {
     "name": "stdout",
     "output_type": "stream",
     "text": [
      "1 loops, best of 3: 8.67 s per loop\n",
      "0.898\n"
     ]
    }
   ],
   "source": [
    "nn = neurnet.Regressor(\n",
    "    layers=[\n",
    "        neurnet.Layer(\"Sigmoid\", units=64),\n",
    "        neurnet.Layer(\"Sigmoid\", units=20),\n",
    "        neurnet.Layer(\"Sigmoid\", units=20),\n",
    "        neurnet.Layer(\"Sigmoid\", units=20),\n",
    "        neurnet.Layer(\"Sigmoid\", units=20),\n",
    "        neurnet.Layer(\"Sigmoid\", units=10)],\n",
    "    learning_rate=0.2,\n",
    "    n_iter=100,\n",
    "    batch_size=5)\n",
    "\n",
    "%timeit -n 1 nn.fit(trainingdata, traininganswervectors)\n",
    "\n",
    "y_valid = nn.predict(testdata)\n",
    "print(accuracy(testdata, y_valid, testanswervectors))"
   ]
  },
  {
   "cell_type": "code",
   "execution_count": 13,
   "metadata": {
    "collapsed": false
   },
   "outputs": [
    {
     "name": "stdout",
     "output_type": "stream",
     "text": [
      "1 loops, best of 3: 10.1 s per loop\n",
      "0.898\n"
     ]
    }
   ],
   "source": [
    "nn = neurnet.Regressor(\n",
    "    layers=[\n",
    "        neurnet.Layer(\"Sigmoid\", units=64),\n",
    "        neurnet.Layer(\"Sigmoid\", units=20),\n",
    "        neurnet.Layer(\"Sigmoid\", units=20),\n",
    "        neurnet.Layer(\"Sigmoid\", units=20),\n",
    "        neurnet.Layer(\"Sigmoid\", units=20),\n",
    "        neurnet.Layer(\"Sigmoid\", units=10)],\n",
    "    learning_rate=0.2,\n",
    "    n_iter=120,\n",
    "    batch_size=5)\n",
    "\n",
    "%timeit -n 1 nn.fit(trainingdata, traininganswervectors)\n",
    "\n",
    "y_valid = nn.predict(testdata)\n",
    "print(accuracy(testdata, y_valid, testanswervectors))"
   ]
  },
  {
   "cell_type": "code",
   "execution_count": 14,
   "metadata": {
    "collapsed": false
   },
   "outputs": [
    {
     "name": "stdout",
     "output_type": "stream",
     "text": [
      "1 loops, best of 3: 35.6 s per loop\n",
      "0.896\n"
     ]
    }
   ],
   "source": [
    "nn = neurnet.Regressor(\n",
    "    layers=[\n",
    "        neurnet.Layer(\"Sigmoid\", units=64),\n",
    "        neurnet.Layer(\"Sigmoid\", units=20),\n",
    "        neurnet.Layer(\"Sigmoid\", units=20),\n",
    "        neurnet.Layer(\"Sigmoid\", units=20),\n",
    "        neurnet.Layer(\"Sigmoid\", units=20),\n",
    "        neurnet.Layer(\"Sigmoid\", units=10)],\n",
    "    learning_rate=0.2,\n",
    "    n_iter=400,\n",
    "    batch_size=5)\n",
    "\n",
    "%timeit -n 1 nn.fit(trainingdata, traininganswervectors)\n",
    "\n",
    "y_valid = nn.predict(testdata)\n",
    "print(accuracy(testdata, y_valid, testanswervectors))"
   ]
  },
  {
   "cell_type": "code",
   "execution_count": 19,
   "metadata": {
    "collapsed": false
   },
   "outputs": [],
   "source": [
    "_4x20time = [.193, .317, .541, .833, 1.68, 3.33, 5.02, 6.76, 8.67, 10.1, 35.6]\n",
    "_4x20acc = [.43, .526, .776, .864, .88, .894, .9, .898, .898, .898, .896]"
   ]
  },
  {
   "cell_type": "code",
   "execution_count": 34,
   "metadata": {
    "collapsed": false
   },
   "outputs": [
    {
     "data": {
      "text/plain": [
       "(0, 1)"
      ]
     },
     "execution_count": 34,
     "metadata": {},
     "output_type": "execute_result"
    },
    {
     "data": {
      "image/png": "[encoded data removed]",
      "text/plain": [
       "<matplotlib.figure.Figure at 0x7f81634423c8>"
      ]
     },
     "metadata": {},
     "output_type": "display_data"
    }
   ],
   "source": [
    "fig = plt.figure()\n",
    "ax = fig.add_subplot(111)\n",
    "\n",
    "plt.scatter(_1x80time, _1x80acc)\n",
    "plt.scatter(_4x20time, _4x20acc, color=\"r\")\n",
    "ax.set_xscale(\"log\")\n",
    "plt.xlabel(\"Time (log)\")\n",
    "plt.ylabel(\"Accuracy\")\n",
    "plt.ylim((0, 1))"
   ]
  },
  {
   "cell_type": "code",
   "execution_count": null,
   "metadata": {
    "collapsed": true
   },
   "outputs": [],
   "source": []
  }
 ],
 "metadata": {
  "kernelspec": {
   "display_name": "Python 3",
   "language": "python",
   "name": "python3"
  },
  "language_info": {
   "codemirror_mode": {
    "name": "ipython",
    "version": 3
   },
   "file_extension": ".py",
   "mimetype": "text/x-python",
   "name": "python",
   "nbconvert_exporter": "python",
   "pygments_lexer": "ipython3",
   "version": "3.4.0"
  }
 },
 "nbformat": 4,
 "nbformat_minor": 0
}
