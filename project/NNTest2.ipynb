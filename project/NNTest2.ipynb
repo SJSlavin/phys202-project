{
 "cells": [
  {
   "cell_type": "code",
   "execution_count": 1,
   "metadata": {
    "collapsed": true
   },
   "outputs": [],
   "source": [
    "import numpy as np"
   ]
  },
  {
   "cell_type": "code",
   "execution_count": 7,
   "metadata": {
    "collapsed": false
   },
   "outputs": [],
   "source": [
    "\n",
    "#http://natureofcode.com/book/chapter-10-neural-networks/\n",
    "#translated into python\n",
    "class Perceptron(object):\n",
    "    def __init__(self, weights, lc):\n",
    "        self.weights = weights\n",
    "        self.lc = lc\n",
    "    def createweights(self, n):\n",
    "        weights = (np.random.rand(n) * 2) - 1\n",
    "    def feedforward(self, inputs):\n",
    "        sum_ = 0\n",
    "        for n in range(len(inputs)):\n",
    "            sum_ += inputs[n]*weights[n]\n",
    "            return activate(sum_)\n",
    "    def activate(self, sum_):\n",
    "        if sum_ > 0:\n",
    "            return 1\n",
    "        else:\n",
    "            return -1\n",
    "    def train(self, inputs, expected):\n",
    "        guess = feedforward(inputs)\n",
    "        error = desired - guess\n",
    "        for n in range(len(weights)):\n",
    "            weights[n] += lc * error * inputs[n]\n",
    "\n",
    "class Trainer(object):\n",
    "    def __init__(self, inputs, answer):\n",
    "        \n",
    "    \n",
    "def func(x):\n",
    "    return 2*x + 1\n"
   ]
  },
  {
   "cell_type": "code",
   "execution_count": null,
   "metadata": {
    "collapsed": true
   },
   "outputs": [],
   "source": []
  }
 ],
 "metadata": {
  "kernelspec": {
   "display_name": "Python 3",
   "language": "python",
   "name": "python3"
  },
  "language_info": {
   "codemirror_mode": {
    "name": "ipython",
    "version": 3
   },
   "file_extension": ".py",
   "mimetype": "text/x-python",
   "name": "python",
   "nbconvert_exporter": "python",
   "pygments_lexer": "ipython3",
   "version": "3.4.0"
  }
 },
 "nbformat": 4,
 "nbformat_minor": 0
}
