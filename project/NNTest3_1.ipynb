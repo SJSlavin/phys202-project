{
 "cells": [
  {
   "cell_type": "code",
   "execution_count": 66,
   "metadata": {
    "collapsed": true
   },
   "outputs": [],
   "source": [
    "import numpy as np\n",
    "import matplotlib as plt"
   ]
  },
  {
   "cell_type": "code",
   "execution_count": 67,
   "metadata": {
    "collapsed": false
   },
   "outputs": [],
   "source": [
    "def create_training_data(n, f):\n",
    "    input1 = np.random.rand(n) * 10 - 5\n",
    "    input2 = np.random.rand(n) * 10 - 5\n",
    "    training_data = np.array([input1, input2, func(input1)])\n",
    "    return training_data\n",
    "\n",
    "def func(x):\n",
    "    return 2*x + 1\n",
    "\n",
    "#data = create_training_data(20, func)\n",
    "#weights = np.random.rand(2)*2 - 1\n",
    "\n",
    "def activate(sum_):\n",
    "    if sum_ > 0:\n",
    "        return 1\n",
    "    else:\n",
    "        return -1\n",
    "\n",
    "def feedforward(inputs, weights):\n",
    "    sum_ = 0\n",
    "    for n in range(len(weights)):\n",
    "        sum_ += inputs[n - 1]*weights[n - 1]\n",
    "    return activate(sum_)\n",
    "\n",
    "def train(data, weights):\n",
    "    guess = feedforward(inputs, weights)\n",
    "    error = desired - guess\n",
    "    for n in range(len(weights)):\n",
    "        weights[n] += 0.05 * error * data[n]\n",
    "    print(weights)\n",
    "\n"
   ]
  },
  {
   "cell_type": "code",
   "execution_count": 72,
   "metadata": {
    "collapsed": false
   },
   "outputs": [],
   "source": [
    "dataset = create_training_data(20, func)\n",
    "weights = np.random.rand(3)*2 - 1"
   ]
  },
  {
   "cell_type": "code",
   "execution_count": 73,
   "metadata": {
    "collapsed": false
   },
   "outputs": [
    {
     "name": "stdout",
     "output_type": "stream",
     "text": [
      "[ 0.56435577 -0.1278065  -0.1699929 ]\n",
      "[ 1.13202106 -0.69501995  0.2029776 ]\n",
      "[ 1.69968635 -1.2622334   0.5759481 ]\n",
      "[ 2.26735164 -1.82944685  0.9489186 ]\n",
      "[ 2.83501693 -2.39666031  1.3218891 ]\n",
      "[ 3.40268222 -2.96387376  1.6948596 ]\n",
      "[ 3.97034752 -3.53108721  2.06783009]\n",
      "[ 4.53801281 -4.09830067  2.44080059]\n",
      "[ 5.1056781  -4.66551412  2.81377109]\n",
      "[ 5.67334339 -5.23272757  3.18674159]\n",
      "[ 6.24100868 -5.79994102  3.55971209]\n",
      "[ 6.80867397 -6.36715448  3.93268259]\n",
      "[ 7.37633926 -6.93436793  4.30565308]\n",
      "[ 7.94400455 -7.50158138  4.67862358]\n",
      "[ 8.51166984 -8.06879484  5.05159408]\n",
      "[ 9.07933513 -8.63600829  5.42456458]\n",
      "[ 9.64700042 -9.20322174  5.79753508]\n",
      "[ 10.21466571  -9.7704352    6.17050557]\n",
      "[ 10.782331   -10.33764865   6.54347607]\n",
      "[ 11.34999629 -10.9048621    6.91644657]\n"
     ]
    }
   ],
   "source": [
    "for n1 in range(len(dataset[0])):\n",
    "    data = dataset[n]\n",
    "    inputs = [data[0], data[1]]\n",
    "    desired = data[2]\n",
    "    train(data, weights)"
   ]
  },
  {
   "cell_type": "code",
   "execution_count": null,
   "metadata": {
    "collapsed": true
   },
   "outputs": [],
   "source": []
  },
  {
   "cell_type": "code",
   "execution_count": null,
   "metadata": {
    "collapsed": true
   },
   "outputs": [],
   "source": []
  }
 ],
 "metadata": {
  "kernelspec": {
   "display_name": "Python 3",
   "language": "python",
   "name": "python3"
  },
  "language_info": {
   "codemirror_mode": {
    "name": "ipython",
    "version": 3
   },
   "file_extension": ".py",
   "mimetype": "text/x-python",
   "name": "python",
   "nbconvert_exporter": "python",
   "pygments_lexer": "ipython3",
   "version": "3.4.0"
  }
 },
 "nbformat": 4,
 "nbformat_minor": 0
}
