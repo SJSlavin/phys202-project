{
 "cells": [
  {
   "cell_type": "code",
   "execution_count": 6,
   "metadata": {
    "collapsed": true
   },
   "outputs": [],
   "source": [
    "%matplotlib inline\n",
    "import numpy as np\n",
    "import matplotlib.pyplot as plt"
   ]
  },
  {
   "cell_type": "code",
   "execution_count": 15,
   "metadata": {
    "collapsed": false
   },
   "outputs": [],
   "source": [
    "def func(x, y):\n",
    "    result = [0]*len(y)\n",
    "    for n in range(len(y)):\n",
    "        if y[n] > 2*x[n] + 1:\n",
    "            result[n] = 1\n",
    "        else:\n",
    "            result[n] = -1\n",
    "    return result\n",
    "\n",
    "def create_training_data(n):\n",
    "    x = np.random.rand(n) * 10 - 5\n",
    "    y = np.random.rand(n) * 10 - 5\n",
    "    data = np.array([x, y, func(x, y)])\n",
    "    return data\n",
    "\n",
    "data = create_training_data(50)\n",
    "weights = np.random.rand(2) * 2 - 1\n",
    "inputs = [data[0], data[1]]\n",
    "answers = data[2]\n",
    "lc = 0.02\n",
    "\n",
    "def activate(sum_):\n",
    "    if sum_ > 0:\n",
    "        return 1\n",
    "    else:\n",
    "        return -1\n",
    "    \n",
    "def sum_(inputs):\n",
    "    sum_ = 0\n",
    "    for n in range(len(weights)):\n",
    "        sum_ += inputs[n]*weights[n]\n",
    "    return activate(sum_)\n",
    "\n",
    "\n",
    "\n",
    "def train(inputs, answer):\n",
    "    guess = sum_(inputs)\n",
    "    error = answer - guess\n",
    "    for n in range(len(weights)):\n",
    "        weights[n] += lc*error*inputs[n]"
   ]
  },
  {
   "cell_type": "code",
   "execution_count": 16,
   "metadata": {
    "collapsed": false
   },
   "outputs": [],
   "source": [
    "for n in range(len(data[0])):\n",
    "    train([inputs[0][n], inputs[1][n]], answers[n])"
   ]
  },
  {
   "cell_type": "code",
   "execution_count": 17,
   "metadata": {
    "collapsed": false
   },
   "outputs": [
    {
     "data": {
      "text/plain": [
       "[<matplotlib.lines.Line2D at 0x7f7820e01e10>]"
      ]
     },
     "execution_count": 17,
     "metadata": {},
     "output_type": "execute_result"
    },
    {
     "data": {
      "image/png": "[encoded data removed]",
      "text/plain": [
       "<matplotlib.figure.Figure at 0x7f7820f24748>"
      ]
     },
     "metadata": {},
     "output_type": "display_data"
    }
   ],
   "source": [
    "x = np.array(data[0])\n",
    "y = np.array(data[1])\n",
    "plt.scatter(x, y)\n",
    "\n",
    "linex = np.linspace(-5, 5, 100)\n",
    "liney = 2*linex + 1\n",
    "plt.plot(linex, liney)"
   ]
  },
  {
   "cell_type": "code",
   "execution_count": null,
   "metadata": {
    "collapsed": true
   },
   "outputs": [],
   "source": []
  },
  {
   "cell_type": "code",
   "execution_count": null,
   "metadata": {
    "collapsed": true
   },
   "outputs": [],
   "source": []
  }
 ],
 "metadata": {
  "kernelspec": {
   "display_name": "Python 3",
   "language": "python",
   "name": "python3"
  },
  "language_info": {
   "codemirror_mode": {
    "name": "ipython",
    "version": 3
   },
   "file_extension": ".py",
   "mimetype": "text/x-python",
   "name": "python",
   "nbconvert_exporter": "python",
   "pygments_lexer": "ipython3",
   "version": "3.4.0"
  }
 },
 "nbformat": 4,
 "nbformat_minor": 0
}
