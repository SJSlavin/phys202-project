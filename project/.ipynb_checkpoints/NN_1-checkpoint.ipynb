{
 "cells": [
  {
   "cell_type": "code",
   "execution_count": 6,
   "metadata": {
    "collapsed": false
   },
   "outputs": [
    {
     "name": "stdout",
     "output_type": "stream",
     "text": [
      "(1797, 64)\n"
     ]
    },
    {
     "name": "stderr",
     "output_type": "stream",
     "text": [
      ":0: FutureWarning: IPython widgets are experimental and may change in the future.\n"
     ]
    }
   ],
   "source": [
    "%matplotlib inline\n",
    "import numpy as np\n",
    "import matplotlib.pyplot as plt\n",
    "from IPython.html.widgets import interact\n",
    "\n",
    "from sklearn.datasets import load_digits\n",
    "digits = load_digits()\n",
    "print(digits.data.shape)"
   ]
  },
  {
   "cell_type": "code",
   "execution_count": null,
   "metadata": {
    "collapsed": true
   },
   "outputs": [],
   "source": [
    "weights = np.random.randn(65)\n",
    "inputs = digits.data[0:1200]\n",
    "answers = digits.target\n",
    "lc = 0.02"
   ]
  },
  {
   "cell_type": "code",
   "execution_count": 10,
   "metadata": {
    "collapsed": false
   },
   "outputs": [],
   "source": [
    "class Perceptron(object):\n",
    "    def __init__(self, inputs, answers, weights, lc):\n",
    "        self.inputs = inputs\n",
    "        aelf.answers = answers\n",
    "        self.weights = weights\n",
    "        self.lc = lc\n",
    "    \n",
    "    def activate(self, sum_):\n",
    "        if sum_ > 0:\n",
    "            return 1\n",
    "        else:\n",
    "            return -1\n",
    "\n",
    "    def sum_(self, inputs):\n",
    "        sum_ = 0\n",
    "        for n in range(len(weights)):\n",
    "            sum_ += inputs[n]*weights[n]\n",
    "        return activate(sum_)\n",
    "\n",
    "    def train(self, inputs, answer):\n",
    "        guess = sum_(inputs)\n",
    "        error = answer - guess\n",
    "        for n in range(len(weights)):\n",
    "            weights[n] += lc*error*inputs[n]"
   ]
  },
  {
   "cell_type": "code",
   "execution_count": null,
   "metadata": {
    "collapsed": true
   },
   "outputs": [],
   "source": [
    "def sigmoid(z):\n",
    "    return 1/(1 + exp(-z))\n",
    "\n",
    "def sig_prime(z):\n",
    "    return sigmoid(z) * (1 - sigmoid(z))"
   ]
  }
 ],
 "metadata": {
  "kernelspec": {
   "display_name": "Python 3",
   "language": "python",
   "name": "python3"
  },
  "language_info": {
   "codemirror_mode": {
    "name": "ipython",
    "version": 3
   },
   "file_extension": ".py",
   "mimetype": "text/x-python",
   "name": "python",
   "nbconvert_exporter": "python",
   "pygments_lexer": "ipython3",
   "version": "3.4.0"
  }
 },
 "nbformat": 4,
 "nbformat_minor": 0
}
