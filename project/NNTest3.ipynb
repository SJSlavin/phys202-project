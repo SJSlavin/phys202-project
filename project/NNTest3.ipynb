{
 "cells": [
  {
   "cell_type": "code",
   "execution_count": 14,
   "metadata": {
    "collapsed": true
   },
   "outputs": [],
   "source": [
    "import numpy as np"
   ]
  },
  {
   "cell_type": "code",
   "execution_count": 69,
   "metadata": {
    "collapsed": false
   },
   "outputs": [
    {
     "name": "stdout",
     "output_type": "stream",
     "text": [
      "[ 115.12331914  122.72456718  238.28024688]\n"
     ]
    }
   ],
   "source": [
    "def create_training_data(n, f):\n",
    "    input1 = np.random.rand(n) * 10\n",
    "    input2 = np.random.rand(n) * 10\n",
    "    training_data = np.array([input1, input2, f(input1, input2)])\n",
    "    return training_data\n",
    "\n",
    "def func(x):\n",
    "    return 2*x + 1\n",
    "\n",
    "#data = create_training_data(20, func)\n",
    "#weights = np.random.rand(3)*2 - 1\n",
    "\n",
    "def sum_(inputs, weights):\n",
    "    sum_ = 0\n",
    "    for n in range(len(weights)):\n",
    "        sum_ += inputs[n - 1]*weights[n - 1]\n",
    "    return sum_\n",
    "        \n",
    "def activate(sum_):\n",
    "    if sum_ > 0:\n",
    "        return 1\n",
    "    else:\n",
    "        return -1\n",
    "\n",
    "def feedforward(data, weights):\n",
    "       outputs = []\n",
    "    for n in range(20):\n",
    "        inputs = [data[0, n], data[1, n]]\n",
    "        outputs.append(activate(sum_(inputs, weights)))\n",
    "    return outputs\n",
    "\n",
    "def train(data, weights):\n",
    "    inputs = [data[0], data[1]]\n",
    "    desired = [data[2]]\n",
    "    guess = feedforward(data, weights)\n",
    "    error = []\n",
    "    for n1 in range(len(desired[0])): \n",
    "        error.append(desired[0][n1] - guess[n1])\n",
    "        for n2 in range(len(weights)):\n",
    "            weights[n2] += 0.05 * error[n1] * data[n2][n1]\n",
    "    print(weights)\n",
    "\n",
    "    \n",
    "train(data, weights)\n"
   ]
  },
  {
   "cell_type": "code",
   "execution_count": 70,
   "metadata": {
    "collapsed": false
   },
   "outputs": [],
   "source": [
    "data = create_training_data(20, func)\n",
    "weights = np.random.rand(3)*2 - 1"
   ]
  },
  {
   "cell_type": "code",
   "execution_count": 71,
   "metadata": {
    "collapsed": false
   },
   "outputs": [
    {
     "name": "stdout",
     "output_type": "stream",
     "text": [
      "[  55.91042366   45.81805698  102.54488393]\n",
      "[ 107.0732306    89.63029984  197.51993373]\n",
      "[ 158.23603754  133.4425427   292.49498352]\n",
      "[ 209.39884448  177.25478555  387.47003332]\n",
      "[ 260.56165142  221.06702841  482.44508312]\n",
      "[ 311.72445836  264.87927127  577.42013292]\n",
      "[ 362.8872653   308.69151413  672.39518272]\n",
      "[ 414.05007224  352.50375699  767.37023252]\n",
      "[ 465.21287918  396.31599985  862.34528232]\n",
      "[ 516.37568612  440.12824271  957.32033212]\n"
     ]
    }
   ],
   "source": [
    "for n in range(10):\n",
    "    train(data, weights)"
   ]
  },
  {
   "cell_type": "code",
   "execution_count": null,
   "metadata": {
    "collapsed": true
   },
   "outputs": [],
   "source": []
  },
  {
   "cell_type": "code",
   "execution_count": null,
   "metadata": {
    "collapsed": true
   },
   "outputs": [],
   "source": []
  }
 ],
 "metadata": {
  "kernelspec": {
   "display_name": "Python 3",
   "language": "python",
   "name": "python3"
  },
  "language_info": {
   "codemirror_mode": {
    "name": "ipython",
    "version": 3
   },
   "file_extension": ".py",
   "mimetype": "text/x-python",
   "name": "python",
   "nbconvert_exporter": "python",
   "pygments_lexer": "ipython3",
   "version": "3.4.0"
  }
 },
 "nbformat": 4,
 "nbformat_minor": 0
}
