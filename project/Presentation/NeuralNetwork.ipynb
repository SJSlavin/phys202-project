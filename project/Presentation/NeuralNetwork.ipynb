{
 "cells": [
  {
   "cell_type": "code",
   "execution_count": 8,
   "metadata": {
    "collapsed": false
   },
   "outputs": [],
   "source": [
    "%matplotlib inline\n",
    "import numpy as np\n",
    "import matplotlib.pyplot as plt\n",
    "from IPython.html.widgets import interact\n",
    "\n",
    "from sklearn.datasets import load_digits\n",
    "digits = load_digits()"
   ]
  },
  {
   "cell_type": "code",
   "execution_count": 9,
   "metadata": {
    "collapsed": true
   },
   "outputs": [],
   "source": [
    "\"\"\"This part defines the sigmoid functions, which ae used to calculate the\n",
    "output of each neuron. At large positive and negative x, it approximates the step\n",
    "function, but curves near zero.\"\"\"\n",
    "\n",
    "def sigmoid(x):\n",
    "    return 1/(1 + np.exp(-x))\n",
    "\n",
    "sigmoid_v = np.vectorize(sigmoid)\n",
    "\n",
    "def sigmoidprime(x):\n",
    "    return sigmoid(x) * (1 - sigmoid(x))\n",
    "\n",
    "sigmoidprime_v = np.vectorize(sigmoidprime)"
   ]
  },
  {
   "cell_type": "code",
   "execution_count": 10,
   "metadata": {
    "collapsed": false
   },
   "outputs": [
    {
     "data": {
      "text/plain": [
       "(-0.3, 1.3)"
      ]
     },
     "execution_count": 10,
     "metadata": {},
     "output_type": "execute_result"
    },
    {
     "data": {
      "image/png": "[encoded data removed]",
      "text/plain": [
       "<matplotlib.figure.Figure at 0x7f2639b65828>"
      ]
     },
     "metadata": {},
     "output_type": "display_data"
    }
   ],
   "source": [
    "x = np.linspace(-15, 15, 100)\n",
    "y = sigmoid(x)\n",
    "plt.plot(x, y)\n",
    "plt.ylim(-0.3, 1.3)"
   ]
  },
  {
   "cell_type": "code",
   "execution_count": 11,
   "metadata": {
    "collapsed": false
   },
   "outputs": [],
   "source": [
    "\"\"\"This section created random initial weights and biases. It also takes the\n",
    "data and answers from the source, and converts the answers into 10-d vectors\n",
    "\n",
    "ex. 6 --> [0, 0, 0, 0, 0, 0, 1, 0, 0, 0]\"\"\"\n",
    "\n",
    "size = [64, 20, 10]\n",
    "\n",
    "weights = []\n",
    "for n in range(1, len(size)):\n",
    "    weights.append(np.random.rand(size[n], size[n-1]) * 2 - 1)\n",
    "\n",
    "biases = []\n",
    "for n in range(1, len(size)):\n",
    "    biases.append(np.random.rand(size[n]) * 2 - 1)\n",
    "\n",
    "trainingdata = digits.data[0:1200]\n",
    "traininganswers = digits.target[0:1200]\n",
    "lc = 0.02\n",
    "\n",
    "#convert the integer answers into a 10-dimension array\n",
    "traininganswervectors = np.zeros((1796,10))\n",
    "for n in range(1796):\n",
    "    traininganswervectors[n][digits.target[n]] = 1"
   ]
  },
  {
   "cell_type": "code",
   "execution_count": 12,
   "metadata": {
    "collapsed": false
   },
   "outputs": [],
   "source": [
    "\"\"\"This function calculates the output of the network based on the weights and\n",
    "biases, and uses the sigmoid function.\"\"\"\n",
    "def feedforward(weights, biases, a):\n",
    "    b = []\n",
    "    #first element is inputs \"a\"\n",
    "    b.append(a)\n",
    "    for n in range(1, len(size)):\n",
    "        #all other elements depend on the number of neurons\n",
    "        b.append(np.zeros(size[n]))\n",
    "        for n2 in range(0, size[n]):\n",
    "            b[n][n2] = sigmoid_v(np.dot(weights[n-1][n2], b[n-1]) + biases[n-1][n2])\n",
    "      \n",
    "    return b"
   ]
  },
  {
   "cell_type": "code",
   "execution_count": 13,
   "metadata": {
    "collapsed": false
   },
   "outputs": [
    {
     "data": {
      "text/plain": [
       "[array([  0.,   0.,   5.,  13.,   9.,   1.,   0.,   0.,   0.,   0.,  13.,\n",
       "         15.,  10.,  15.,   5.,   0.,   0.,   3.,  15.,   2.,   0.,  11.,\n",
       "          8.,   0.,   0.,   4.,  12.,   0.,   0.,   8.,   8.,   0.,   0.,\n",
       "          5.,   8.,   0.,   0.,   9.,   8.,   0.,   0.,   4.,  11.,   0.,\n",
       "          1.,  12.,   7.,   0.,   0.,   2.,  14.,   5.,  10.,  12.,   0.,\n",
       "          0.,   0.,   0.,   6.,  13.,  10.,   0.,   0.,   0.]),\n",
       " array([  3.21682303e-06,   7.51067561e-02,   4.85302615e-02,\n",
       "          9.44295088e-01,   1.00000000e+00,   5.60922030e-19,\n",
       "          9.99995209e-01,   2.80763966e-17,   2.17687836e-21,\n",
       "          1.00000000e+00,   1.00000000e+00,   9.98164651e-01,\n",
       "          2.55007164e-16,   9.78797916e-06,   1.00000000e+00,\n",
       "          2.91803266e-19,   1.00000000e+00,   9.99998105e-01,\n",
       "          1.00000000e+00,   3.79032818e-23]),\n",
       " array([ 0.93938143,  0.85755443,  0.90042992,  0.54905622,  0.49554056,\n",
       "         0.64940774,  0.21117831,  0.02616924,  0.57829814,  0.0189328 ])]"
      ]
     },
     "execution_count": 13,
     "metadata": {},
     "output_type": "execute_result"
    }
   ],
   "source": [
    "feedforward(weights, biases, trainingdata[0])"
   ]
  },
  {
   "cell_type": "code",
   "execution_count": 14,
   "metadata": {
    "collapsed": true
   },
   "outputs": [],
   "source": [
    "\"\"\"This function just calculates the difference between the answer the network\n",
    "provides and the given answer for an input for each element of the answer\"\"\"\n",
    "\n",
    "def costderivative(output, answers):\n",
    "    return (output - answers)"
   ]
  },
  {
   "cell_type": "code",
   "execution_count": 15,
   "metadata": {
    "collapsed": false
   },
   "outputs": [],
   "source": [
    "\"\"\"This function is used to find the 'minimum' of the cost derivative. It selects\n",
    "a 'minibatch' of random inputs from the training set to approximate the behavior\n",
    "of the whole set.\"\"\"\n",
    "\n",
    "def gradient_descent(weights, biases, inputs, answers, batchsize, lc, epochs):\n",
    "    for n in range(epochs):\n",
    "        #pick random locations for input/result data\n",
    "        locations = np.random.randint(0, len(inputs), batchsize)\n",
    "        minibatch = []\n",
    "        #create tuples (inputs, result) based on random locations\n",
    "        for n2 in range(batchsize):\n",
    "            minibatch.append((inputs[locations[n2]], answers[locations[n2]]))\n",
    "        for n3 in range(batchsize):\n",
    "            weights, biases = train(weights, biases, minibatch, lc)\n",
    "        \n",
    "        \n",
    "        results = []\n",
    "        for n4 in range(len(trainingdata)):\n",
    "            results.append(feedforward(weights, biases, inputs[n4])[-1])\n",
    "            \n",
    "        accresult = accuracy(inputs, results, answers)\n",
    "        print(\"Epoch \", n, \" : \", accresult)\n",
    "        \n",
    "    return weights, biases"
   ]
  },
  {
   "cell_type": "code",
   "execution_count": 16,
   "metadata": {
    "collapsed": false
   },
   "outputs": [],
   "source": [
    "\"\"\"This function adjusts the weights and biases based on the results of the\n",
    "backpropagation function\"\"\"\n",
    "\n",
    "def train(weights, biases, minibatch, lc):\n",
    "    #set the nabla functions to be the functions themselves initially, same size\n",
    "    nb = [np.zeros(b.shape) for b in biases]\n",
    "    nw = [np.zeros(w.shape) for w in weights]\n",
    "    #largely taken from Michael Nielsen's implementation\n",
    "    for i, r in minibatch:\n",
    "        dnb, dnw = backprop(weights, biases, i, r)\n",
    "        nb = [a+b for a, b in zip(nb, dnb)]\n",
    "        nw = [a+b for a, b in zip(nw, dnw)]\n",
    "    \n",
    "    weights = [w-(lc/len(minibatch))*n_w for w, n_w in zip(weights, nw)]\n",
    "    biases = [b-(lc/len(minibatch))*n_b for b, n_b in zip(biases, nb)]\n",
    "    return weights, biases"
   ]
  },
  {
   "cell_type": "code",
   "execution_count": 17,
   "metadata": {
    "collapsed": false
   },
   "outputs": [],
   "source": [
    "\"\"\"This function is the most complex, and likely where I made an error. It \n",
    "calculates the gradient of the change for the output, then calculates it for\n",
    "each step before it (hence BACKpropagation).\"\"\"\n",
    "\n",
    "def backprop(weights, biases, inputs, answers):\n",
    "    #set the nabla functions to be the same size as functions\n",
    "    nb = [np.zeros(b.shape) for b in biases]\n",
    "    nw = [np.zeros(w.shape) for w in weights]\n",
    "    a = inputs\n",
    "    alist = [inputs]\n",
    "    zlist = []\n",
    "    #from feedforward\n",
    "    for n in range(1, len(size)):\n",
    "        #all other elements depend on the number of neurons\n",
    "        zlist.append(np.zeros(size[n]))\n",
    "        alist.append(np.zeros(size[n]))\n",
    "        for n2 in range(0, size[n]):\n",
    "            zlist[n-1][n2] = np.dot(weights[n-1][n2], alist[n-1]) + biases[n-1][n2]\n",
    "            alist[n][n2] = sigmoid_v(zlist[n-1][n2])\n",
    "    \n",
    "    delta = costderivative(alist[-1], answers) * sigmoidprime_v(zlist[-1])\n",
    "    nb[-1] = delta\n",
    "    #different from MN, alist[-2] not same size as delta?\n",
    "    nw[-1] = np.dot(delta, alist[-1].transpose())\n",
    "    \n",
    "    for n in range(2, len(size)):\n",
    "        delta = np.dot(weights[-n+1].transpose(), delta) * sigmoidprime_v(zlist[-n])\n",
    "        nb[-n] = delta\n",
    "        #same here\n",
    "        nw[-n] = np.dot(delta, alist[-n].transpose())\n",
    "    \n",
    "    return nb, nw"
   ]
  },
  {
   "cell_type": "code",
   "execution_count": 18,
   "metadata": {
    "collapsed": true
   },
   "outputs": [],
   "source": [
    "\"\"\"This function is just used to test the accuracy of each epoch. It converts the\n",
    "outputs into a vector like the answers, taking the largest value to be the '1'\n",
    "\n",
    "ex [0.21, 0.06, 0.134, 0.952, 0.558, 0.031, 0.511, 0.105, 0.216, 0.041] -->\n",
    "    [0, 0, 0, 1, 0, 0, 0, 0, 0, 0] == 3\"\"\"\n",
    "\n",
    "def accuracy(inputs, results, answers):\n",
    "    correct = 0\n",
    "    binresults = results\n",
    "    for n in range(0, len(results)):\n",
    "        #converts the output into a binary y/n for each digit\n",
    "        for n2 in range(len(results[n])):\n",
    "            if results[n][n2] == np.amax(results[n]):\n",
    "                binresults[n][n2] = 1\n",
    "            else:\n",
    "                binresults[n][n2] = 0\n",
    "        \n",
    "        if np.array_equal(answers[n], binresults[n]):\n",
    "            correct += 1\n",
    "    return correct / len(results)"
   ]
  },
  {
   "cell_type": "code",
   "execution_count": 19,
   "metadata": {
    "collapsed": true
   },
   "outputs": [],
   "source": [
    "size = [64, 20, 10]\n",
    "\n",
    "weights = []\n",
    "for n in range(1, len(size)):\n",
    "    weights.append(np.random.rand(size[n], size[n-1]) * 2 - 1)\n",
    "\n",
    "biases = []\n",
    "for n in range(1, len(size)):\n",
    "    biases.append(np.random.rand(size[n]) * 2 - 1)\n",
    "\n",
    "trainingdata = digits.data[0:500]\n",
    "traininganswers = digits.target[0:500]\n",
    "\n",
    "traininganswervectors = np.zeros((500,10))\n",
    "for n in range(500):\n",
    "    traininganswervectors[n][digits.target[n]] = 1"
   ]
  },
  {
   "cell_type": "code",
   "execution_count": 20,
   "metadata": {
    "collapsed": false
   },
   "outputs": [
    {
     "name": "stdout",
     "output_type": "stream",
     "text": [
      "Epoch  0  :  0.122\n",
      "Epoch  1  :  0.122\n",
      "Epoch  2  :  0.134\n",
      "Epoch  3  :  0.146\n",
      "Epoch  4  :  0.11\n",
      "Epoch  5  :  0.136\n",
      "Epoch  6  :  0.136\n",
      "Epoch  7  :  0.124\n",
      "Epoch  8  :  0.116\n",
      "Epoch  9  :  0.136\n",
      "Epoch  10  :  0.124\n",
      "Epoch  11  :  0.104\n",
      "Epoch  12  :  0.118\n",
      "Epoch  13  :  0.104\n",
      "Epoch  14  :  0.108\n",
      "Epoch  15  :  0.106\n",
      "Epoch  16  :  0.102\n",
      "Epoch  17  :  0.092\n",
      "Epoch  18  :  0.09\n",
      "Epoch  19  :  0.09\n",
      "Epoch  20  :  0.09\n",
      "Epoch  21  :  0.096\n",
      "Epoch  22  :  0.098\n",
      "Epoch  23  :  0.1\n",
      "Epoch  24  :  0.096\n",
      "Epoch  25  :  0.108\n",
      "Epoch  26  :  0.104\n",
      "Epoch  27  :  0.1\n",
      "Epoch  28  :  0.1\n",
      "Epoch  29  :  0.1\n",
      "Epoch  30  :  0.108\n",
      "Epoch  31  :  0.098\n",
      "Epoch  32  :  0.124\n",
      "Epoch  33  :  0.1\n",
      "Epoch  34  :  0.098\n",
      "Epoch  35  :  0.092\n",
      "Epoch  36  :  0.106\n",
      "Epoch  37  :  0.104\n",
      "Epoch  38  :  0.104\n",
      "Epoch  39  :  0.1\n",
      "Epoch  40  :  0.11\n",
      "Epoch  41  :  0.108\n",
      "Epoch  42  :  0.102\n",
      "Epoch  43  :  0.1\n",
      "Epoch  44  :  0.092\n",
      "Epoch  45  :  0.096\n",
      "Epoch  46  :  0.104\n",
      "Epoch  47  :  0.102\n",
      "Epoch  48  :  0.11\n",
      "Epoch  49  :  0.126\n",
      "Epoch  50  :  0.112\n",
      "Epoch  51  :  0.11\n",
      "Epoch  52  :  0.112\n",
      "Epoch  53  :  0.12\n",
      "Epoch  54  :  0.124\n",
      "Epoch  55  :  0.102\n",
      "Epoch  56  :  0.094\n",
      "Epoch  57  :  0.104\n",
      "Epoch  58  :  0.106\n",
      "Epoch  59  :  0.1\n",
      "Epoch  60  :  0.104\n",
      "Epoch  61  :  0.084\n",
      "Epoch  62  :  0.068\n",
      "Epoch  63  :  0.066\n",
      "Epoch  64  :  0.07\n",
      "Epoch  65  :  0.078\n",
      "Epoch  66  :  0.1\n",
      "Epoch  67  :  0.098\n",
      "Epoch  68  :  0.098\n",
      "Epoch  69  :  0.08\n",
      "Epoch  70  :  0.08\n",
      "Epoch  71  :  0.082\n",
      "Epoch  72  :  0.08\n",
      "Epoch  73  :  0.072\n",
      "Epoch  74  :  0.072\n",
      "Epoch  75  :  0.072\n",
      "Epoch  76  :  0.07\n",
      "Epoch  77  :  0.07\n",
      "Epoch  78  :  0.072\n",
      "Epoch  79  :  0.082\n",
      "Epoch  80  :  0.078\n",
      "Epoch  81  :  0.08\n",
      "Epoch  82  :  0.092\n",
      "Epoch  83  :  0.11\n",
      "Epoch  84  :  0.084\n",
      "Epoch  85  :  0.068\n",
      "Epoch  86  :  0.062\n",
      "Epoch  87  :  0.066\n",
      "Epoch  88  :  0.102\n",
      "Epoch  89  :  0.102\n",
      "Epoch  90  :  0.1\n",
      "Epoch  91  :  0.1\n",
      "Epoch  92  :  0.1\n",
      "Epoch  93  :  0.1\n",
      "Epoch  94  :  0.098\n",
      "Epoch  95  :  0.066\n",
      "Epoch  96  :  0.072\n",
      "Epoch  97  :  0.048\n",
      "Epoch  98  :  0.076\n",
      "Epoch  99  :  0.076\n"
     ]
    }
   ],
   "source": [
    "final_weights, final_biases = gradient_descent(weights, biases, trainingdata,\n",
    "                                              traininganswervectors, 5, 1, 100)"
   ]
  }
 ],
 "metadata": {
  "kernelspec": {
   "display_name": "Python 3",
   "language": "python",
   "name": "python3"
  },
  "language_info": {
   "codemirror_mode": {
    "name": "ipython",
    "version": 3
   },
   "file_extension": ".py",
   "mimetype": "text/x-python",
   "name": "python",
   "nbconvert_exporter": "python",
   "pygments_lexer": "ipython3",
   "version": "3.4.0"
  }
 },
 "nbformat": 4,
 "nbformat_minor": 0
}
