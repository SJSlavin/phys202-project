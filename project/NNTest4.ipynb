{
 "cells": [
  {
   "cell_type": "code",
   "execution_count": 3,
   "metadata": {
    "collapsed": true
   },
   "outputs": [],
   "source": [
    "import numpy as np\n",
    "import matplotlib as plt"
   ]
  },
  {
   "cell_type": "code",
   "execution_count": 20,
   "metadata": {
    "collapsed": false
   },
   "outputs": [
    {
     "name": "stdout",
     "output_type": "stream",
     "text": [
      "[ 0.45543549 -0.47138545  0.98493958]\n"
     ]
    }
   ],
   "source": [
    "class Perceptron(object):\n",
    "    def __init__(self, n):\n",
    "        self.n = n\n",
    "        lc = 0.05\n",
    "        weights = np.random.rand(n) * 2 - 1\n",
    "        \n",
    "        \n",
    "        print(weights)\n",
    "    \n",
    "    \n",
    "    def activate(self, sum_):\n",
    "        if sum_ > 0:\n",
    "            return 1\n",
    "        else:\n",
    "            return 0\n",
    "    \n",
    "    def feedforward(self, inputs):\n",
    "        sum_ = 0\n",
    "        for i in range(len(weights)):\n",
    "            sum_ += inputs[i]*weights[i]\n",
    "        return activate(sum_)\n",
    "    \n",
    "    def train(self, inputs, desired):\n",
    "        guess = feedforward(inputs)\n",
    "        error = desired - guess\n",
    "        for i in range(len(weights)):\n",
    "            weights[i] = lc*error*inputs[i]\n",
    "            \n",
    "            \n",
    "class Trainer(object):\n",
    "    def __init__(self, x, y, answer):\n",
    "        self.x = x\n",
    "        self.y = y\n",
    "        self.answer = answer\n",
    "        \n",
    "        inputs = [x, y, 1]\n",
    "        answer = answer\n",
    "        \n",
    "\n",
    "        \n",
    "        \n",
    "def func(x):\n",
    "    return 2*x + 1\n",
    "\n",
    "x = np.random.rand() * 10 - 5\n",
    "y = np.random.rand() * 10 - 5\n",
    "yline = func(x)\n",
    "\n",
    "if y < yline:\n",
    "    answer = -1\n",
    "else:\n",
    "    answer = 1\n",
    "    \n",
    "    \n",
    "    \n",
    "t = Trainer(x, y, answer)\n",
    "ptron = Perceptron(3)"
   ]
  },
  {
   "cell_type": "code",
   "execution_count": null,
   "metadata": {
    "collapsed": true
   },
   "outputs": [],
   "source": []
  },
  {
   "cell_type": "code",
   "execution_count": null,
   "metadata": {
    "collapsed": true
   },
   "outputs": [],
   "source": []
  }
 ],
 "metadata": {
  "kernelspec": {
   "display_name": "Python 3",
   "language": "python",
   "name": "python3"
  },
  "language_info": {
   "codemirror_mode": {
    "name": "ipython",
    "version": 3
   },
   "file_extension": ".py",
   "mimetype": "text/x-python",
   "name": "python",
   "nbconvert_exporter": "python",
   "pygments_lexer": "ipython3",
   "version": "3.4.0"
  }
 },
 "nbformat": 4,
 "nbformat_minor": 0
}
